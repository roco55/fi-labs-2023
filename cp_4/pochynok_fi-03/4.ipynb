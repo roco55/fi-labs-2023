{
 "cells": [
  {
   "cell_type": "code",
   "execution_count": null,
   "metadata": {},
   "outputs": [],
   "source": [
    "from pathlib import Path\n",
    "import numpy as np\n",
    "N_L1 = 222\n",
    "R_L1 = 71\n",
    "N_L2 = 229\n",
    "R_L2 = 73\n",
    "VEC = 2048\n",
    "\n",
    "f = open(\"text.txt\", \"r\",encoding=\"utf-8\")\n",
    "comp = (f.read())\n",
    "leng = len(comp)\n",
    "compvec = [0]*leng\n",
    "for i in range(leng):\n",
    "    compvec[i] = int(comp[i])\n",
    "\n",
    "array = np.zeros(2048)\n",
    "print(compvec)"
   ]
  },
  {
   "cell_type": "code",
   "execution_count": 246,
   "metadata": {},
   "outputs": [],
   "source": [
    "def bitwise_add(a):\n",
    "    a[0] = a[0]+1\n",
    "    for i in range(27):\n",
    "        if(a[i]==2):\n",
    "            a[i] = 0\n",
    "            a[i+1]+=1 \n",
    "    return a\n"
   ]
  },
  {
   "cell_type": "code",
   "execution_count": 247,
   "metadata": {},
   "outputs": [],
   "source": [
    "def gen_gef(l1,l2,l3):\n",
    "    arr = [0]*28\n",
    "    for i in range(27):\n",
    "        arr[i] = (l3[i]&l1[i])^(1^l3[i]&l2[i])\n",
    "    return arr\n",
    "\n",
    "def compare(arr1,arr2):\n",
    "    for i in range(27):\n",
    "        if(arr1[i]!=arr2[i]):\n",
    "            return False\n",
    "    return True\n"
   ]
  },
  {
   "cell_type": "code",
   "execution_count": 248,
   "metadata": {},
   "outputs": [],
   "source": [
    "\n",
    "def L1(num,array_L1s):\n",
    "    numc = num.copy()\n",
    "    a = [0]*N_L1\n",
    "    for i in range(25):\n",
    "        a[i] = num[i]\n",
    "    for i in range(0,N_L1-25):\n",
    "        a[25+i]= a[3+i]^a[i]\n",
    "    r = sum(a[i]^compvec[i] for i in range(0,222))\n",
    "    if(r<R_L1):\n",
    "        for i in range(25,28):\n",
    "            numc[i] = a[i]\n",
    "        array_L1s.append([numc,r])\n",
    "    \n"
   ]
  },
  {
   "cell_type": "code",
   "execution_count": 249,
   "metadata": {},
   "outputs": [],
   "source": [
    "def L2(num,array_L2s):\n",
    "    numc = num.copy()\n",
    "    a = [0]*N_L2\n",
    "    for i in range(26): \n",
    "        a[i] = num[i]\n",
    "    for i in range(0,N_L2-26):\n",
    "        a[26+i]= a[i+6]^a[i+2]^a[i+1]^a[i]\n",
    "    r = sum(a[i]^compvec[i] for i in range(0,222))\n",
    "    if(r<R_L2):\n",
    "        for i in range(26,28):\n",
    "            numc[i] = a[i]\n",
    "        array_L2s.append([numc,r])\n",
    "\n",
    "\n"
   ]
  },
  {
   "cell_type": "code",
   "execution_count": 250,
   "metadata": {},
   "outputs": [],
   "source": [
    "a = [0]*28\n",
    "array_L1s = []\n",
    "array_L2s = []\n",
    "for i in range(2**26):\n",
    "    L2(a, array_L2s)\n",
    "    if(i < 2**25):\n",
    "        L1(a, array_L1s)\n",
    "    a = bitwise_add(a)\n",
    "\n"
   ]
  },
  {
   "cell_type": "code",
   "execution_count": null,
   "metadata": {},
   "outputs": [],
   "source": [
    "print((array_L1s))\n",
    "print((array_L2s))\n",
    "print(len(array_L1s))\n",
    "print(len(array_L2s))\n"
   ]
  },
  {
   "cell_type": "code",
   "execution_count": 252,
   "metadata": {},
   "outputs": [],
   "source": [
    "def addition(arr1,arr2):\n",
    "    for i in range(len(arr1)):\n",
    "        for j in range(3):\n",
    "            arr1[i][0][25+j]== arr1[i][0][3+j]^arr1[i][0][j]\n",
    "    for i in range(len(arr2)):\n",
    "        for j in range(2):\n",
    "            arr2[i][0][26+j]= arr2[i][0][j+6]^arr2[i][0][j+2]^arr2[i][0][j+1]^arr2[i][0][j]\n",
    "    return(arr1,arr2)    \n",
    "array_L1s,array_L2s = addition(array_L1s,array_L2s)"
   ]
  },
  {
   "cell_type": "code",
   "execution_count": 253,
   "metadata": {},
   "outputs": [],
   "source": [
    "def L3(num):\n",
    "    numc = num.copy()\n",
    "    for i in range(len(array_L1s)):\n",
    "        for j in range(len(array_L2s)):\n",
    "            gen = gen_gef(array_L1s[i][0],array_L2s[j][0],num)\n",
    "            if(compare(compvec,gen) == True):\n",
    "                print(array_L1s[i],array_L2s[j],numc)\n",
    "            "
   ]
  },
  {
   "cell_type": "code",
   "execution_count": null,
   "metadata": {},
   "outputs": [],
   "source": [
    "a = [0]*28\n",
    "print(a)\n",
    "for i in range(2**27):\n",
    "    L3(a)\n",
    "    a = bitwise_add(a)\n"
   ]
  }
 ],
 "metadata": {
  "kernelspec": {
   "display_name": "Python 3",
   "language": "python",
   "name": "python3"
  },
  "language_info": {
   "codemirror_mode": {
    "name": "ipython",
    "version": 3
   },
   "file_extension": ".py",
   "mimetype": "text/x-python",
   "name": "python",
   "nbconvert_exporter": "python",
   "pygments_lexer": "ipython3",
   "version": "3.10.10"
  },
  "orig_nbformat": 4
 },
 "nbformat": 4,
 "nbformat_minor": 2
}
